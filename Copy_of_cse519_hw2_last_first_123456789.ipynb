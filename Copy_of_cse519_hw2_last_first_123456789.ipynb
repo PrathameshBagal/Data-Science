{
  "nbformat": 4,
  "nbformat_minor": 0,
  "metadata": {
    "colab": {
      "provenance": [],
      "include_colab_link": true
    },
    "kernelspec": {
      "name": "python3",
      "display_name": "Python 3"
    },
    "language_info": {
      "name": "python"
    }
  },
  "cells": [
    {
      "cell_type": "markdown",
      "metadata": {
        "id": "view-in-github",
        "colab_type": "text"
      },
      "source": [
        "<a href=\"https://colab.research.google.com/github/PrathameshBagal/Data-Science/blob/main/Copy_of_cse519_hw2_last_first_123456789.ipynb\" target=\"_parent\"><img src=\"https://colab.research.google.com/assets/colab-badge.svg\" alt=\"Open In Colab\"/></a>"
      ]
    },
    {
      "cell_type": "markdown",
      "metadata": {
        "id": "Alr9A33BXHvP"
      },
      "source": [
        "## Copy this notebook (if using Colab) via `File -> Save a Copy in Drive`.\n",
        "\n",
        "## You can do this assignment outside of Colab (using your local Python installation) via `File -> Download`.\n",
        "\n",
        "## <u>**Use the \"Text\" blocks to provide explanations wherever you find them necessary. Highlight your answers inside these text fields to ensure that we don't miss it while grading your HW.**</u>"
      ]
    },
    {
      "cell_type": "markdown",
      "metadata": {
        "id": "vIOjh3AvYWxH"
      },
      "source": [
        "## **Setup**\n",
        "\n",
        "- Code to download the data directly from the colab notebook.\n",
        "- If you find it easier to download the data from the kaggle website (and uploading it to your drive), you can skip this section."
      ]
    },
    {
      "cell_type": "code",
      "source": [
        "from google.colab import drive\n",
        "drive.mount('/content/drive')"
      ],
      "metadata": {
        "id": "1JVuULnskqGt",
        "colab": {
          "base_uri": "https://localhost:8080/"
        },
        "outputId": "f5337ea6-7b90-4b4c-d945-d4502df59216"
      },
      "execution_count": 10,
      "outputs": [
        {
          "output_type": "stream",
          "name": "stdout",
          "text": [
            "Drive already mounted at /content/drive; to attempt to forcibly remount, call drive.mount(\"/content/drive\", force_remount=True).\n"
          ]
        }
      ]
    },
    {
      "cell_type": "code",
      "metadata": {
        "id": "lE-oUHZNYlME",
        "colab": {
          "base_uri": "https://localhost:8080/"
        },
        "outputId": "ccd7d6b8-7547-44e4-ecac-768829d25680"
      },
      "source": [
        "# First mount your drive before running these cells.\n",
        "# Create a folder for the this HW and change to that dir\n",
        "%cd drive/MyDrive/cse519"
      ],
      "execution_count": 16,
      "outputs": [
        {
          "output_type": "stream",
          "name": "stdout",
          "text": [
            "/content/drive/MyDrive/cse519\n"
          ]
        }
      ]
    },
    {
      "cell_type": "markdown",
      "source": [
        "# Download data from Kaggle"
      ],
      "metadata": {
        "id": "vdr_8Q4WBjCt"
      }
    },
    {
      "cell_type": "code",
      "metadata": {
        "id": "hwwNGPowVz1I"
      },
      "source": [
        "!pip install -q kaggle"
      ],
      "execution_count": 17,
      "outputs": []
    },
    {
      "cell_type": "code",
      "metadata": {
        "id": "ArePZv5vV7Ui",
        "colab": {
          "base_uri": "https://localhost:8080/",
          "height": 92
        },
        "outputId": "4ad65d1a-5908-49f6-baa9-6b8fc49536f8"
      },
      "source": [
        "from google.colab import files\n",
        "# Create a new API token under \"Account\" in the kaggle webpage and download the json file\n",
        "# Upload the file by clicking on the browse\n",
        "files.upload()"
      ],
      "execution_count": 19,
      "outputs": [
        {
          "output_type": "display_data",
          "data": {
            "text/plain": [
              "<IPython.core.display.HTML object>"
            ],
            "text/html": [
              "\n",
              "     <input type=\"file\" id=\"files-912a78d9-be42-4184-a57b-4357a62cdca8\" name=\"files[]\" multiple disabled\n",
              "        style=\"border:none\" />\n",
              "     <output id=\"result-912a78d9-be42-4184-a57b-4357a62cdca8\">\n",
              "      Upload widget is only available when the cell has been executed in the\n",
              "      current browser session. Please rerun this cell to enable.\n",
              "      </output>\n",
              "      <script>// Copyright 2017 Google LLC\n",
              "//\n",
              "// Licensed under the Apache License, Version 2.0 (the \"License\");\n",
              "// you may not use this file except in compliance with the License.\n",
              "// You may obtain a copy of the License at\n",
              "//\n",
              "//      http://www.apache.org/licenses/LICENSE-2.0\n",
              "//\n",
              "// Unless required by applicable law or agreed to in writing, software\n",
              "// distributed under the License is distributed on an \"AS IS\" BASIS,\n",
              "// WITHOUT WARRANTIES OR CONDITIONS OF ANY KIND, either express or implied.\n",
              "// See the License for the specific language governing permissions and\n",
              "// limitations under the License.\n",
              "\n",
              "/**\n",
              " * @fileoverview Helpers for google.colab Python module.\n",
              " */\n",
              "(function(scope) {\n",
              "function span(text, styleAttributes = {}) {\n",
              "  const element = document.createElement('span');\n",
              "  element.textContent = text;\n",
              "  for (const key of Object.keys(styleAttributes)) {\n",
              "    element.style[key] = styleAttributes[key];\n",
              "  }\n",
              "  return element;\n",
              "}\n",
              "\n",
              "// Max number of bytes which will be uploaded at a time.\n",
              "const MAX_PAYLOAD_SIZE = 100 * 1024;\n",
              "\n",
              "function _uploadFiles(inputId, outputId) {\n",
              "  const steps = uploadFilesStep(inputId, outputId);\n",
              "  const outputElement = document.getElementById(outputId);\n",
              "  // Cache steps on the outputElement to make it available for the next call\n",
              "  // to uploadFilesContinue from Python.\n",
              "  outputElement.steps = steps;\n",
              "\n",
              "  return _uploadFilesContinue(outputId);\n",
              "}\n",
              "\n",
              "// This is roughly an async generator (not supported in the browser yet),\n",
              "// where there are multiple asynchronous steps and the Python side is going\n",
              "// to poll for completion of each step.\n",
              "// This uses a Promise to block the python side on completion of each step,\n",
              "// then passes the result of the previous step as the input to the next step.\n",
              "function _uploadFilesContinue(outputId) {\n",
              "  const outputElement = document.getElementById(outputId);\n",
              "  const steps = outputElement.steps;\n",
              "\n",
              "  const next = steps.next(outputElement.lastPromiseValue);\n",
              "  return Promise.resolve(next.value.promise).then((value) => {\n",
              "    // Cache the last promise value to make it available to the next\n",
              "    // step of the generator.\n",
              "    outputElement.lastPromiseValue = value;\n",
              "    return next.value.response;\n",
              "  });\n",
              "}\n",
              "\n",
              "/**\n",
              " * Generator function which is called between each async step of the upload\n",
              " * process.\n",
              " * @param {string} inputId Element ID of the input file picker element.\n",
              " * @param {string} outputId Element ID of the output display.\n",
              " * @return {!Iterable<!Object>} Iterable of next steps.\n",
              " */\n",
              "function* uploadFilesStep(inputId, outputId) {\n",
              "  const inputElement = document.getElementById(inputId);\n",
              "  inputElement.disabled = false;\n",
              "\n",
              "  const outputElement = document.getElementById(outputId);\n",
              "  outputElement.innerHTML = '';\n",
              "\n",
              "  const pickedPromise = new Promise((resolve) => {\n",
              "    inputElement.addEventListener('change', (e) => {\n",
              "      resolve(e.target.files);\n",
              "    });\n",
              "  });\n",
              "\n",
              "  const cancel = document.createElement('button');\n",
              "  inputElement.parentElement.appendChild(cancel);\n",
              "  cancel.textContent = 'Cancel upload';\n",
              "  const cancelPromise = new Promise((resolve) => {\n",
              "    cancel.onclick = () => {\n",
              "      resolve(null);\n",
              "    };\n",
              "  });\n",
              "\n",
              "  // Wait for the user to pick the files.\n",
              "  const files = yield {\n",
              "    promise: Promise.race([pickedPromise, cancelPromise]),\n",
              "    response: {\n",
              "      action: 'starting',\n",
              "    }\n",
              "  };\n",
              "\n",
              "  cancel.remove();\n",
              "\n",
              "  // Disable the input element since further picks are not allowed.\n",
              "  inputElement.disabled = true;\n",
              "\n",
              "  if (!files) {\n",
              "    return {\n",
              "      response: {\n",
              "        action: 'complete',\n",
              "      }\n",
              "    };\n",
              "  }\n",
              "\n",
              "  for (const file of files) {\n",
              "    const li = document.createElement('li');\n",
              "    li.append(span(file.name, {fontWeight: 'bold'}));\n",
              "    li.append(span(\n",
              "        `(${file.type || 'n/a'}) - ${file.size} bytes, ` +\n",
              "        `last modified: ${\n",
              "            file.lastModifiedDate ? file.lastModifiedDate.toLocaleDateString() :\n",
              "                                    'n/a'} - `));\n",
              "    const percent = span('0% done');\n",
              "    li.appendChild(percent);\n",
              "\n",
              "    outputElement.appendChild(li);\n",
              "\n",
              "    const fileDataPromise = new Promise((resolve) => {\n",
              "      const reader = new FileReader();\n",
              "      reader.onload = (e) => {\n",
              "        resolve(e.target.result);\n",
              "      };\n",
              "      reader.readAsArrayBuffer(file);\n",
              "    });\n",
              "    // Wait for the data to be ready.\n",
              "    let fileData = yield {\n",
              "      promise: fileDataPromise,\n",
              "      response: {\n",
              "        action: 'continue',\n",
              "      }\n",
              "    };\n",
              "\n",
              "    // Use a chunked sending to avoid message size limits. See b/62115660.\n",
              "    let position = 0;\n",
              "    do {\n",
              "      const length = Math.min(fileData.byteLength - position, MAX_PAYLOAD_SIZE);\n",
              "      const chunk = new Uint8Array(fileData, position, length);\n",
              "      position += length;\n",
              "\n",
              "      const base64 = btoa(String.fromCharCode.apply(null, chunk));\n",
              "      yield {\n",
              "        response: {\n",
              "          action: 'append',\n",
              "          file: file.name,\n",
              "          data: base64,\n",
              "        },\n",
              "      };\n",
              "\n",
              "      let percentDone = fileData.byteLength === 0 ?\n",
              "          100 :\n",
              "          Math.round((position / fileData.byteLength) * 100);\n",
              "      percent.textContent = `${percentDone}% done`;\n",
              "\n",
              "    } while (position < fileData.byteLength);\n",
              "  }\n",
              "\n",
              "  // All done.\n",
              "  yield {\n",
              "    response: {\n",
              "      action: 'complete',\n",
              "    }\n",
              "  };\n",
              "}\n",
              "\n",
              "scope.google = scope.google || {};\n",
              "scope.google.colab = scope.google.colab || {};\n",
              "scope.google.colab._files = {\n",
              "  _uploadFiles,\n",
              "  _uploadFilesContinue,\n",
              "};\n",
              "})(self);\n",
              "</script> "
            ]
          },
          "metadata": {}
        },
        {
          "output_type": "stream",
          "name": "stdout",
          "text": [
            "Saving kaggle.json to kaggle (1).json\n"
          ]
        },
        {
          "output_type": "execute_result",
          "data": {
            "text/plain": [
              "{'kaggle (1).json': b'{\"username\":\"prathameshbagal2908\",\"key\":\"7c39bd28bf8ec01c18c560e841a8e860\"}'}"
            ]
          },
          "metadata": {},
          "execution_count": 19
        }
      ]
    },
    {
      "cell_type": "code",
      "source": [
        "! mkdir ~/.kaggle"
      ],
      "metadata": {
        "id": "_3La_-ZBsiRA"
      },
      "execution_count": 20,
      "outputs": []
    },
    {
      "cell_type": "code",
      "source": [
        "! cp kaggle.json ~/.kaggle/"
      ],
      "metadata": {
        "id": "XOZllflrl9sT"
      },
      "execution_count": null,
      "outputs": []
    },
    {
      "cell_type": "code",
      "metadata": {
        "id": "BRcVxAIPWpWb",
        "colab": {
          "base_uri": "https://localhost:8080/"
        },
        "outputId": "450bea18-8024-4aee-ad88-deb27534dc4a"
      },
      "source": [
        "!kaggle competitions download -c commonlit-evaluate-student-summaries"
      ],
      "execution_count": 23,
      "outputs": [
        {
          "output_type": "stream",
          "name": "stdout",
          "text": [
            "Downloading commonlit-evaluate-student-summaries.zip to /content/drive/MyDrive/cse519\n",
            " 95% 1.00M/1.05M [00:00<00:00, 1.51MB/s]\n",
            "100% 1.05M/1.05M [00:00<00:00, 1.57MB/s]\n"
          ]
        }
      ]
    },
    {
      "cell_type": "markdown",
      "source": [
        "# Alternate: download data using gdown (if having issues with Kaggle)"
      ],
      "metadata": {
        "id": "z5NEVklKBfoi"
      }
    },
    {
      "cell_type": "code",
      "source": [
        "!pip install gdown"
      ],
      "metadata": {
        "id": "TnESaD2XBo6c"
      },
      "execution_count": null,
      "outputs": []
    },
    {
      "cell_type": "code",
      "source": [
        "import gdown\n",
        "url = 'https://drive.google.com/uc?id=164sQHZYvxU2XXPokrjzqv9MCGAMHaCIM'\n",
        "gdown.download(url)"
      ],
      "metadata": {
        "id": "7AWlwkwJBr18"
      },
      "execution_count": null,
      "outputs": []
    },
    {
      "cell_type": "markdown",
      "source": [
        "# Extract data and install packages (regardless of data acquisition method)"
      ],
      "metadata": {
        "id": "weXmYBz3BuRF"
      }
    },
    {
      "cell_type": "code",
      "source": [
        "!unzip commonlit-evaluate-student-summaries.zip"
      ],
      "metadata": {
        "id": "tHbGd7mLsk-Y",
        "colab": {
          "base_uri": "https://localhost:8080/"
        },
        "outputId": "1bd4bdf0-98bc-4ef7-fb82-2854089afe2d"
      },
      "execution_count": 24,
      "outputs": [
        {
          "output_type": "stream",
          "name": "stdout",
          "text": [
            "Archive:  commonlit-evaluate-student-summaries.zip\n",
            "  inflating: prompts_test.csv        \n",
            "  inflating: prompts_train.csv       \n",
            "  inflating: sample_submission.csv   \n",
            "  inflating: summaries_test.csv      \n",
            "  inflating: summaries_train.csv     \n"
          ]
        }
      ]
    },
    {
      "cell_type": "code",
      "source": [
        "### TODO: Install required packages\n",
        "### Student's code here\n",
        "!pip install pandas\n",
        "!pip install scikit-learn\n",
        "!pip install numpy\n",
        "!pip install matplotlib\n",
        "!pip install seaborn\n",
        "### END"
      ],
      "metadata": {
        "id": "oAjeEoObsmN_"
      },
      "execution_count": null,
      "outputs": []
    },
    {
      "cell_type": "markdown",
      "metadata": {
        "id": "8GtADEq4Zw1g"
      },
      "source": [
        "## **Section 1: Library and Data Imports (Q1, 5 points)**\n",
        "\n",
        "- Import your libraries and join the data from both `summaries_train.csv` and `prompts_train.csv` into a single dataframe with the same structure as `use_cols`. Print the head of the dataframe. **Do not modify `use_cols`.**"
      ]
    },
    {
      "cell_type": "code",
      "source": [
        "### TODO: Load required packages\n",
        "### Student's code here\n",
        "import numpy as np\n",
        "import pandas as pd\n",
        "import matplotlib.pyplot as plt\n",
        "import seaborn as sns\n",
        "###\n",
        "\n",
        "# Reading both the csv files and storing them temporarily\n",
        "prompts_train = pd.read_csv(\"prompts_train.csv\")\n",
        "summaries_train= pd.read_csv(\"summaries_train.csv\")\n",
        "\n",
        "#  Merging both of them on prompt_id to make df structure as that of use_cols\n",
        "df = summaries_train.merge(prompts_train,on=\"prompt_id\")\n",
        "(df.head(10))"
      ],
      "metadata": {
        "id": "krXf2AMnssJr"
      },
      "execution_count": null,
      "outputs": []
    },
    {
      "cell_type": "code",
      "metadata": {
        "id": "uXHCH_wAXyEf"
      },
      "source": [
        "use_cols = [\"student_id\",\n",
        "            \"prompt_id\",\n",
        "            \"text\",\n",
        "            \"content\",\n",
        "            \"wording\",\n",
        "            \"prompt_question\",\n",
        "            \"prompt_title\",\n",
        "            \"prompt_text\"\n",
        "           ]\n",
        "dtypes = {\n",
        "        'student_id':                                    'string',\n",
        "        'prompt_id':                                     'string',\n",
        "        'text':                                          'string',\n",
        "        'content':                                       'Float64',\n",
        "        'wording':                                       'Float64',\n",
        "        'prompt_question':                               'string',\n",
        "        'prompt_title':                                  'string',\n",
        "        'prompt_text':                                   'string',\n",
        "        }"
      ],
      "execution_count": 30,
      "outputs": []
    },
    {
      "cell_type": "markdown",
      "metadata": {
        "id": "lwCqDB9DUw7t"
      },
      "source": [
        "## **Section 2: Features (Q2 and Q3, 25 points total)**"
      ]
    },
    {
      "cell_type": "markdown",
      "metadata": {
        "id": "1wEXze7jU6Lx"
      },
      "source": [
        "## **Section 3: Content and Wording (Q4, 10 points)**"
      ]
    },
    {
      "cell_type": "markdown",
      "metadata": {
        "id": "6VcDL3PrH-UH"
      },
      "source": [
        "## **Section 4: Words in Good and Bad Essays (Q5, 10 points)**"
      ]
    },
    {
      "cell_type": "markdown",
      "metadata": {
        "id": "g8VNweURVXip"
      },
      "source": [
        "## **Section 5: Three Interesting Plots (Q6, 15 points)**"
      ]
    },
    {
      "cell_type": "markdown",
      "metadata": {
        "id": "ylT6xzFmVfT-"
      },
      "source": [
        "## **Section 6: Baseline Model (Q7, 10 points)**"
      ]
    },
    {
      "cell_type": "markdown",
      "metadata": {
        "id": "WmJ8gezsVkz4"
      },
      "source": [
        "## **Section 7: Feature Cleaning and Additional Models (Q8 & Q9, 20 points total)**"
      ]
    },
    {
      "cell_type": "markdown",
      "metadata": {
        "id": "5RzjvrYtVs-V"
      },
      "source": [
        "## **Section 8: Kaggle Submission Screenshots (Q10, 5 points)**"
      ]
    },
    {
      "cell_type": "markdown",
      "metadata": {
        "id": "wVkK-WfdV73b"
      },
      "source": [
        "Public Score:\n",
        "\n",
        "Private Score:\n",
        "\n",
        "Kaggle profile link:\n",
        "\n",
        "Screenshot(s):"
      ]
    }
  ]
}